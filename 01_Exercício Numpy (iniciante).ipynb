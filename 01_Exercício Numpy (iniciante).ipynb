{
  "cells": [
    {
      "cell_type": "markdown",
      "metadata": {
        "id": "QAnItBgO_LUz"
      },
      "source": [
        "## 📍 Agenda 📍\n",
        "<br>\n",
        "\n",
        "- [Documentação oficial - Numpy](https://numpy.org/doc/stable/user/whatisnumpy.html)\n",
        "- [Exercícios](#dois)"
      ]
    },
    {
      "cell_type": "markdown",
      "metadata": {
        "id": "Q-3x_iuedX6B"
      },
      "source": [
        "### Exercícios\n",
        "\n",
        "1. Importe numpy como 'np' e imprima o número da versão instalada no ambiente (local ou colab)."
      ]
    },
    {
      "cell_type": "code",
      "execution_count": 2,
      "metadata": {
        "id": "AGzhnaNQeCy_"
      },
      "outputs": [
        {
          "name": "stdout",
          "output_type": "stream",
          "text": [
            "a versão do numpy instalada é: 1.23.4\n"
          ]
        }
      ],
      "source": [
        "import numpy as np\n",
        "print(f\"a versão do numpy instalada é: {np.__version__}\")\n"
      ]
    },
    {
      "cell_type": "markdown",
      "metadata": {
        "id": "ieE8odHDdtZI"
      },
      "source": [
        "2. Crie um *array* 1D com números de 0 a 9 e imprima o resultado."
      ]
    },
    {
      "cell_type": "code",
      "execution_count": 46,
      "metadata": {
        "id": "sXFdDWx1dqqU"
      },
      "outputs": [
        {
          "data": {
            "text/plain": [
              "array([0, 1, 2, 3, 4, 5, 6, 7, 8, 9])"
            ]
          },
          "execution_count": 46,
          "metadata": {},
          "output_type": "execute_result"
        }
      ],
      "source": [
        "a1d = np.arange(0,10)\n",
        "a1d"
      ]
    },
    {
      "cell_type": "markdown",
      "metadata": {
        "id": "_jOxZ-9MeDp8"
      },
      "source": [
        "3. Crie uma matriz **booleana** de 3x3 e preencha os seus valores com 'True'. Imprima o resultado.\n",
        "\n",
        "**Dica:** Verifique o uso da função **full** na documentação do [numpy](https://numpy.org/doc/stable/user/whatisnumpy.html)."
      ]
    },
    {
      "cell_type": "code",
      "execution_count": 48,
      "metadata": {
        "id": "a2hFo2USeUTc"
      },
      "outputs": [
        {
          "data": {
            "text/plain": [
              "array([[1., 1., 1.],\n",
              "       [1., 1., 1.],\n",
              "       [1., 1., 1.]])"
            ]
          },
          "execution_count": 48,
          "metadata": {},
          "output_type": "execute_result"
        }
      ],
      "source": [
        "#e = np.zeros((3,3))\n",
        "#boleana = e<1\n",
        "#boleana\n",
        "\n",
        "from numpy import True_\n",
        "\n",
        "\n",
        "#e = np.full((3, 3), True) #ele coloca a dimensão e o valor que vc deseja preencher\n",
        "#e\n",
        "\n",
        "e=np.zeros((3,3))\n",
        "e[e==0]= True_\n",
        "e\n"
      ]
    },
    {
      "cell_type": "markdown",
      "metadata": {
        "id": "Z_d4OZ3dewCV"
      },
      "source": [
        "4. Crie um *array* 1D como números inteiros (50 elementos) de 0 a 1000 e **extraia** apenas os números pares. Imprima o resultado."
      ]
    },
    {
      "cell_type": "code",
      "execution_count": 27,
      "metadata": {
        "id": "a0ADyjpafYtk"
      },
      "outputs": [
        {
          "data": {
            "text/plain": [
              "array([584, 764, 320, 518, 726, 938,  20, 980, 888, 216, 976, 822, 550,\n",
              "       486, 398,  16, 530,  12, 460, 162,  84, 984, 342, 658, 470, 918,\n",
              "       178, 928, 110])"
            ]
          },
          "execution_count": 27,
          "metadata": {},
          "output_type": "execute_result"
        }
      ],
      "source": [
        "nv = np.random.randint(0,1000,50) \n",
        "pares = nv[nv%2==0]\n",
        "pares\n"
      ]
    },
    {
      "cell_type": "markdown",
      "metadata": {
        "id": "oKusnV8FfTEN"
      },
      "source": [
        "5. Usando o *array* criando no exercício anterior, **substitua** todos os números ímpares maiores que 50 por -1 no *array* original. "
      ]
    },
    {
      "cell_type": "code",
      "execution_count": 35,
      "metadata": {
        "id": "5CznM9H6fSXA"
      },
      "outputs": [
        {
          "data": {
            "text/plain": [
              "array([ -1, 584, 764, 320, 518, 726, 938,  -1,  -1, 980, 888,  -1,  -1,\n",
              "       216, 976, 822,  -1,  -1,  -1, 550,  -1, 486, 398,  -1,  -1,  -1,\n",
              "        -1, 530, 460, 162,  84,  -1, 984,  -1,  -1, 342, 658, 470,  -1,\n",
              "       918, 178, 928, 110,  -1])"
            ]
          },
          "execution_count": 35,
          "metadata": {},
          "output_type": "execute_result"
        }
      ],
      "source": [
        "#ajustar o resultado \n",
        "a2 = nv[nv>50]\n",
        "np.where(a2 % 2 == 0, a2, -1)\n",
        "\n",
        "\n"
      ]
    },
    {
      "cell_type": "markdown",
      "metadata": {
        "id": "PkhrZ4mehSKc"
      },
      "source": [
        "6. Usando o *array* criando no exercício anterior, **substitua** todos os números ímpares com o valor -1 **sem** alterar o *array* original."
      ]
    },
    {
      "cell_type": "code",
      "execution_count": 36,
      "metadata": {
        "id": "Uq4lr9G6hqa9"
      },
      "outputs": [
        {
          "data": {
            "text/plain": [
              "array([ -1,  -1, 584,  -1, 764, 320, 518, 726, 938,  20,  -1,  -1, 980,\n",
              "       888,  -1,  -1, 216, 976, 822,  -1,  -1,  -1, 550,  -1, 486, 398,\n",
              "        -1,  -1,  -1,  -1,  16, 530,  12, 460, 162,  84,  -1, 984,  -1,\n",
              "        -1,  -1, 342, 658, 470,  -1, 918, 178, 928, 110,  -1])"
            ]
          },
          "execution_count": 36,
          "metadata": {},
          "output_type": "execute_result"
        }
      ],
      "source": [
        "np.where(nv % 2 == 0, nv, -1) #o where altera uma cópia do aray original, ele não modifica"
      ]
    },
    {
      "cell_type": "markdown",
      "metadata": {
        "id": "bpNSzpUjhq4k"
      },
      "source": [
        "7. Crie um *array* 1D com 100 valores de ponto flutuante (**float**), converta-o em uma matriz 2D com 10 linhas e 10 colunas."
      ]
    },
    {
      "cell_type": "code",
      "execution_count": 41,
      "metadata": {
        "id": "U8l5HMDuiHrv"
      },
      "outputs": [
        {
          "data": {
            "text/plain": [
              "array([[0.08191543, 0.92845834, 0.13280773, 0.73471974, 0.76778203,\n",
              "        0.3412014 , 0.17179807, 0.25780185, 0.42681793, 0.00941415],\n",
              "       [0.04186662, 0.923118  , 0.23955183, 0.23594396, 0.91821251,\n",
              "        0.57119709, 0.20157242, 0.50246907, 0.17863503, 0.97733966],\n",
              "       [0.55526809, 0.18442717, 0.51937208, 0.04620501, 0.60171425,\n",
              "        0.71572835, 0.99254097, 0.03475022, 0.78310184, 0.60899803],\n",
              "       [0.22521163, 0.21332454, 0.0234178 , 0.64825087, 0.98136308,\n",
              "        0.93987854, 0.47655889, 0.51393318, 0.55597511, 0.12123469],\n",
              "       [0.19024404, 0.30527749, 0.5479686 , 0.79531095, 0.8372735 ,\n",
              "        0.75507232, 0.58629728, 0.87011028, 0.97745831, 0.55202636],\n",
              "       [0.01255587, 0.66104685, 0.1597605 , 0.76760107, 0.35154592,\n",
              "        0.38768925, 0.12878265, 0.31373638, 0.20149068, 0.03631242],\n",
              "       [0.32786089, 0.60135937, 0.02935237, 0.92580513, 0.45596878,\n",
              "        0.21332581, 0.57131769, 0.81178661, 0.86553738, 0.36405748],\n",
              "       [0.61452343, 0.33407375, 0.71287464, 0.95148612, 0.25147661,\n",
              "        0.70928904, 0.79814983, 0.68937643, 0.8382023 , 0.28575159],\n",
              "       [0.20571686, 0.0398798 , 0.75606361, 0.07788669, 0.69908207,\n",
              "        0.32998524, 0.1146054 , 0.81909669, 0.22829492, 0.24026273],\n",
              "       [0.85162936, 0.74376194, 0.54181667, 0.74249079, 0.39624766,\n",
              "        0.29375515, 0.28020392, 0.86961158, 0.36139794, 0.41362687]])"
            ]
          },
          "execution_count": 41,
          "metadata": {},
          "output_type": "execute_result"
        }
      ],
      "source": [
        "matriz = np.random.rand(1, 100)\n",
        "matriz.reshape((10, 10))"
      ]
    },
    {
      "cell_type": "markdown",
      "metadata": {
        "id": "jJ0uUGPNiIIP"
      },
      "source": [
        "8. Crie duas matrizes 2D de inteiros aleatórios (de 0 a 100) com dimensões 10x10. **Empilhe-as horizontalmente**.\n",
        "\n",
        "**Dica:** verique as funções **hstack** e **concatenate** na documentação do [numpy](https://numpy.org/doc/stable/user/whatisnumpy.html)"
      ]
    },
    {
      "cell_type": "code",
      "execution_count": 49,
      "metadata": {
        "id": "RPkc9e_ejdjf"
      },
      "outputs": [
        {
          "data": {
            "text/plain": [
              "array([[54, 89, 63,  5, 45, 28, 52, 99, 22, 63,  1, 54, 39, 62, 59,  7,\n",
              "         7, 18, 14, 35],\n",
              "       [43, 22, 43, 64, 97, 74, 48, 40, 18, 18, 50, 52, 71, 65, 14, 82,\n",
              "        10, 43, 52, 91],\n",
              "       [26, 85, 86, 34, 98, 25, 74, 71, 74, 52, 32, 80, 84, 96, 64, 43,\n",
              "         9, 93, 43, 79],\n",
              "       [67,  9, 84, 48, 60, 50, 82, 57, 59, 34,  3, 43, 33, 49, 22, 98,\n",
              "        36, 84, 44, 10],\n",
              "       [81, 80,  9, 75, 90, 52, 28, 53, 55, 71, 39, 72, 16, 25, 61, 60,\n",
              "        50, 65, 23, 15],\n",
              "       [10, 46, 15, 58, 77, 99, 84, 55, 75, 13, 76, 87,  9, 26, 43, 10,\n",
              "        71, 19, 34, 32],\n",
              "       [23, 67, 14, 49, 60, 30, 90, 67,  8, 31, 41, 32,  5, 80, 15, 71,\n",
              "        69, 90, 35, 30],\n",
              "       [60, 64, 23, 50, 64, 46, 30, 71, 12, 11, 46, 38,  0, 65, 26, 64,\n",
              "        11, 28, 34, 78],\n",
              "       [84, 10, 53, 60, 26, 77, 31, 38, 50, 94, 52, 10, 39, 14, 91, 14,\n",
              "        71, 63, 57, 42],\n",
              "       [41, 22, 54, 68, 98, 36, 47, 64, 25, 49, 41,  5, 51, 91,  3, 35,\n",
              "         7, 76, 87, 87]])"
            ]
          },
          "execution_count": 49,
          "metadata": {},
          "output_type": "execute_result"
        }
      ],
      "source": [
        "a = np.random.randint(0, 101, (10,10))\n",
        "b = np.random.randint(0, 101, (10,10))\n",
        "np.hstack((a,b))"
      ]
    },
    {
      "cell_type": "markdown",
      "metadata": {},
      "source": [
        "https://stackoverflow.com/questions/33356442/when-should-i-use-hstack-vstack-vs-append-vs-concatenate-vs-column-stack"
      ]
    },
    {
      "cell_type": "markdown",
      "metadata": {
        "id": "Vwp25JJ4jjmk"
      },
      "source": [
        "9. Crie duas matrizes 2D de inteiros aleatórios (de 0 a 100) com dimensões 10x10. **Empilhe-as verticalmente**.\n",
        "\n",
        "Dica: verique as funções **vstack** e **concatenate** na documentação do [numpy](https://numpy.org/doc/stable/user/whatisnumpy.html)\n"
      ]
    },
    {
      "cell_type": "code",
      "execution_count": 50,
      "metadata": {
        "id": "elI_DxeIo0s2"
      },
      "outputs": [
        {
          "data": {
            "text/plain": [
              "array([[ 79,  57,   4,   4,  72,   3,  55,   6,  72,  13],\n",
              "       [  9,  49,  79,  34,  13,  97,  42,  42,  44,   9],\n",
              "       [ 93,  34,  45,  61,  70,  70,  81,  53,  42,  68],\n",
              "       [ 80,  38,  66,  84,  53,  16,   8,  21,  17,  76],\n",
              "       [ 50,  28,  58,  56,  83,  10,  23,  19,  88,  54],\n",
              "       [ 65,  63,  86,  17,  49,  33,  77,  84,  84,  39],\n",
              "       [ 12,   1,  71,   2,  45,  77,  28,  55,  68,  23],\n",
              "       [ 61,  65,  82,  36,   6,  26,  74,  69,  89,  76],\n",
              "       [ 55,  16,  95,  34,  86,  75,  57,  58,  88,   1],\n",
              "       [ 90,  81,   5,  22,  50,  67,  13,  23,  54,  75],\n",
              "       [ 11,  48,  13,  21,  22,  46,  75,   9,  64,  22],\n",
              "       [ 43,  87,   5,  61,  60,  59,  35,   8,  67,  48],\n",
              "       [ 70,  62,   7,  92,  24,  96,   5,   1,  32,  83],\n",
              "       [ 69,  28,  40,  26,  95,  55,  83,  12,  32,  13],\n",
              "       [  6,  24,  81,  46,  91,  31,  97,  50,  18,  32],\n",
              "       [ 94,  59,  52, 100,  32,  79,   5,  48,   3,  88],\n",
              "       [ 30,  90,  93,  61,  53,  67,  59,  99,   8,  91],\n",
              "       [ 83,  46,  81,  92,  82,  91,  29,  15,  46,  54],\n",
              "       [ 46,  87,  53,  55,  17,  87,  89,  43,  31,  27],\n",
              "       [ 89,  73,  30,  31,   2,   6,  55,  46,  81,  12]])"
            ]
          },
          "execution_count": 50,
          "metadata": {},
          "output_type": "execute_result"
        }
      ],
      "source": [
        "a = np.random.randint(0, 101, (10,10))\n",
        "b = np.random.randint(0, 101, (10,10))\n",
        "np.vstack((a,b))"
      ]
    },
    {
      "cell_type": "markdown",
      "metadata": {
        "id": "qGOhnKPfl-vj"
      },
      "source": [
        "Para ler arquivos em formato *txt* que estão em formato de \"tabelas\", podemos usar a função **genfromtxt()** do **numpy**. Esta função recebe como argumentos: **caminho do arquivo txt** (path local ou uma url); **delimiter** para separar cada valor seguindo algum critério; **dtype** para converter os valores recebidos em algum tipo de dado conhecido (exemplo: **float**) e; **usecols** em que é definido o cabeçalho das colunas lidas a partir do arquivo. \n",
        "<br>\n",
        "<br>\n",
        "Vejamos um exemplo de uso da função **genfromtxt** sobre a base de dados \n",
        "<a href=\"https://archive.ics.uci.edu/ml/datasets/iris\">Iris</a>."
      ]
    },
    {
      "cell_type": "code",
      "execution_count": null,
      "metadata": {
        "id": "d04zAbrUjyOB"
      },
      "outputs": [],
      "source": [
        "import numpy as np\n",
        "# Caminho da base de dados é uma url disponível na internet (visite o link abaixo\n",
        "# pelo navegador para título de curiosidade :))\n",
        "url = 'https://archive.ics.uci.edu/ml/machine-learning-databases/iris/iris.data'\n",
        "# Lê os dados a partir do caminho passado e armazena em uma matriz 2D chamada iris_2d\n",
        "iris_2d = np.genfromtxt(url, delimiter=',', dtype='float', usecols=[0,1,2,3])"
      ]
    },
    {
      "cell_type": "code",
      "execution_count": null,
      "metadata": {
        "colab": {
          "base_uri": "https://localhost:8080/"
        },
        "id": "YJrKjLEllw3d",
        "outputId": "f2081ea2-4578-44c6-f6e5-676cf935490c"
      },
      "outputs": [
        {
          "data": {
            "text/plain": [
              "array([[5.1, 3.5, 1.4, 0.2],\n",
              "       [4.9, 3. , 1.4, 0.2],\n",
              "       [4.7, 3.2, 1.3, 0.2],\n",
              "       [4.6, 3.1, 1.5, 0.2],\n",
              "       [5. , 3.6, 1.4, 0.2],\n",
              "       [5.4, 3.9, 1.7, 0.4],\n",
              "       [4.6, 3.4, 1.4, 0.3],\n",
              "       [5. , 3.4, 1.5, 0.2],\n",
              "       [4.4, 2.9, 1.4, 0.2],\n",
              "       [4.9, 3.1, 1.5, 0.1],\n",
              "       [5.4, 3.7, 1.5, 0.2],\n",
              "       [4.8, 3.4, 1.6, 0.2],\n",
              "       [4.8, 3. , 1.4, 0.1],\n",
              "       [4.3, 3. , 1.1, 0.1],\n",
              "       [5.8, 4. , 1.2, 0.2],\n",
              "       [5.7, 4.4, 1.5, 0.4],\n",
              "       [5.4, 3.9, 1.3, 0.4],\n",
              "       [5.1, 3.5, 1.4, 0.3],\n",
              "       [5.7, 3.8, 1.7, 0.3],\n",
              "       [5.1, 3.8, 1.5, 0.3],\n",
              "       [5.4, 3.4, 1.7, 0.2],\n",
              "       [5.1, 3.7, 1.5, 0.4],\n",
              "       [4.6, 3.6, 1. , 0.2],\n",
              "       [5.1, 3.3, 1.7, 0.5],\n",
              "       [4.8, 3.4, 1.9, 0.2],\n",
              "       [5. , 3. , 1.6, 0.2],\n",
              "       [5. , 3.4, 1.6, 0.4],\n",
              "       [5.2, 3.5, 1.5, 0.2],\n",
              "       [5.2, 3.4, 1.4, 0.2],\n",
              "       [4.7, 3.2, 1.6, 0.2],\n",
              "       [4.8, 3.1, 1.6, 0.2],\n",
              "       [5.4, 3.4, 1.5, 0.4],\n",
              "       [5.2, 4.1, 1.5, 0.1],\n",
              "       [5.5, 4.2, 1.4, 0.2],\n",
              "       [4.9, 3.1, 1.5, 0.1],\n",
              "       [5. , 3.2, 1.2, 0.2],\n",
              "       [5.5, 3.5, 1.3, 0.2],\n",
              "       [4.9, 3.1, 1.5, 0.1],\n",
              "       [4.4, 3. , 1.3, 0.2],\n",
              "       [5.1, 3.4, 1.5, 0.2],\n",
              "       [5. , 3.5, 1.3, 0.3],\n",
              "       [4.5, 2.3, 1.3, 0.3],\n",
              "       [4.4, 3.2, 1.3, 0.2],\n",
              "       [5. , 3.5, 1.6, 0.6],\n",
              "       [5.1, 3.8, 1.9, 0.4],\n",
              "       [4.8, 3. , 1.4, 0.3],\n",
              "       [5.1, 3.8, 1.6, 0.2],\n",
              "       [4.6, 3.2, 1.4, 0.2],\n",
              "       [5.3, 3.7, 1.5, 0.2],\n",
              "       [5. , 3.3, 1.4, 0.2],\n",
              "       [7. , 3.2, 4.7, 1.4],\n",
              "       [6.4, 3.2, 4.5, 1.5],\n",
              "       [6.9, 3.1, 4.9, 1.5],\n",
              "       [5.5, 2.3, 4. , 1.3],\n",
              "       [6.5, 2.8, 4.6, 1.5],\n",
              "       [5.7, 2.8, 4.5, 1.3],\n",
              "       [6.3, 3.3, 4.7, 1.6],\n",
              "       [4.9, 2.4, 3.3, 1. ],\n",
              "       [6.6, 2.9, 4.6, 1.3],\n",
              "       [5.2, 2.7, 3.9, 1.4],\n",
              "       [5. , 2. , 3.5, 1. ],\n",
              "       [5.9, 3. , 4.2, 1.5],\n",
              "       [6. , 2.2, 4. , 1. ],\n",
              "       [6.1, 2.9, 4.7, 1.4],\n",
              "       [5.6, 2.9, 3.6, 1.3],\n",
              "       [6.7, 3.1, 4.4, 1.4],\n",
              "       [5.6, 3. , 4.5, 1.5],\n",
              "       [5.8, 2.7, 4.1, 1. ],\n",
              "       [6.2, 2.2, 4.5, 1.5],\n",
              "       [5.6, 2.5, 3.9, 1.1],\n",
              "       [5.9, 3.2, 4.8, 1.8],\n",
              "       [6.1, 2.8, 4. , 1.3],\n",
              "       [6.3, 2.5, 4.9, 1.5],\n",
              "       [6.1, 2.8, 4.7, 1.2],\n",
              "       [6.4, 2.9, 4.3, 1.3],\n",
              "       [6.6, 3. , 4.4, 1.4],\n",
              "       [6.8, 2.8, 4.8, 1.4],\n",
              "       [6.7, 3. , 5. , 1.7],\n",
              "       [6. , 2.9, 4.5, 1.5],\n",
              "       [5.7, 2.6, 3.5, 1. ],\n",
              "       [5.5, 2.4, 3.8, 1.1],\n",
              "       [5.5, 2.4, 3.7, 1. ],\n",
              "       [5.8, 2.7, 3.9, 1.2],\n",
              "       [6. , 2.7, 5.1, 1.6],\n",
              "       [5.4, 3. , 4.5, 1.5],\n",
              "       [6. , 3.4, 4.5, 1.6],\n",
              "       [6.7, 3.1, 4.7, 1.5],\n",
              "       [6.3, 2.3, 4.4, 1.3],\n",
              "       [5.6, 3. , 4.1, 1.3],\n",
              "       [5.5, 2.5, 4. , 1.3],\n",
              "       [5.5, 2.6, 4.4, 1.2],\n",
              "       [6.1, 3. , 4.6, 1.4],\n",
              "       [5.8, 2.6, 4. , 1.2],\n",
              "       [5. , 2.3, 3.3, 1. ],\n",
              "       [5.6, 2.7, 4.2, 1.3],\n",
              "       [5.7, 3. , 4.2, 1.2],\n",
              "       [5.7, 2.9, 4.2, 1.3],\n",
              "       [6.2, 2.9, 4.3, 1.3],\n",
              "       [5.1, 2.5, 3. , 1.1],\n",
              "       [5.7, 2.8, 4.1, 1.3],\n",
              "       [6.3, 3.3, 6. , 2.5],\n",
              "       [5.8, 2.7, 5.1, 1.9],\n",
              "       [7.1, 3. , 5.9, 2.1],\n",
              "       [6.3, 2.9, 5.6, 1.8],\n",
              "       [6.5, 3. , 5.8, 2.2],\n",
              "       [7.6, 3. , 6.6, 2.1],\n",
              "       [4.9, 2.5, 4.5, 1.7],\n",
              "       [7.3, 2.9, 6.3, 1.8],\n",
              "       [6.7, 2.5, 5.8, 1.8],\n",
              "       [7.2, 3.6, 6.1, 2.5],\n",
              "       [6.5, 3.2, 5.1, 2. ],\n",
              "       [6.4, 2.7, 5.3, 1.9],\n",
              "       [6.8, 3. , 5.5, 2.1],\n",
              "       [5.7, 2.5, 5. , 2. ],\n",
              "       [5.8, 2.8, 5.1, 2.4],\n",
              "       [6.4, 3.2, 5.3, 2.3],\n",
              "       [6.5, 3. , 5.5, 1.8],\n",
              "       [7.7, 3.8, 6.7, 2.2],\n",
              "       [7.7, 2.6, 6.9, 2.3],\n",
              "       [6. , 2.2, 5. , 1.5],\n",
              "       [6.9, 3.2, 5.7, 2.3],\n",
              "       [5.6, 2.8, 4.9, 2. ],\n",
              "       [7.7, 2.8, 6.7, 2. ],\n",
              "       [6.3, 2.7, 4.9, 1.8],\n",
              "       [6.7, 3.3, 5.7, 2.1],\n",
              "       [7.2, 3.2, 6. , 1.8],\n",
              "       [6.2, 2.8, 4.8, 1.8],\n",
              "       [6.1, 3. , 4.9, 1.8],\n",
              "       [6.4, 2.8, 5.6, 2.1],\n",
              "       [7.2, 3. , 5.8, 1.6],\n",
              "       [7.4, 2.8, 6.1, 1.9],\n",
              "       [7.9, 3.8, 6.4, 2. ],\n",
              "       [6.4, 2.8, 5.6, 2.2],\n",
              "       [6.3, 2.8, 5.1, 1.5],\n",
              "       [6.1, 2.6, 5.6, 1.4],\n",
              "       [7.7, 3. , 6.1, 2.3],\n",
              "       [6.3, 3.4, 5.6, 2.4],\n",
              "       [6.4, 3.1, 5.5, 1.8],\n",
              "       [6. , 3. , 4.8, 1.8],\n",
              "       [6.9, 3.1, 5.4, 2.1],\n",
              "       [6.7, 3.1, 5.6, 2.4],\n",
              "       [6.9, 3.1, 5.1, 2.3],\n",
              "       [5.8, 2.7, 5.1, 1.9],\n",
              "       [6.8, 3.2, 5.9, 2.3],\n",
              "       [6.7, 3.3, 5.7, 2.5],\n",
              "       [6.7, 3. , 5.2, 2.3],\n",
              "       [6.3, 2.5, 5. , 1.9],\n",
              "       [6.5, 3. , 5.2, 2. ],\n",
              "       [6.2, 3.4, 5.4, 2.3],\n",
              "       [5.9, 3. , 5.1, 1.8]])"
            ]
          },
          "execution_count": 2,
          "metadata": {},
          "output_type": "execute_result"
        }
      ],
      "source": [
        "# matriz 2D criada com os dados da base Iris\n",
        "iris_2d"
      ]
    },
    {
      "cell_type": "markdown",
      "metadata": {
        "id": "y6BEJmbfoG9e"
      },
      "source": [
        "11. A partir dos dados lidos na matriz iris_2d, filtre as linhas que possuem (coluna 3) > 1.5 e (coluna 1) < 5.0."
      ]
    },
    {
      "cell_type": "code",
      "execution_count": null,
      "metadata": {
        "id": "ZDVN0zTqqQWt"
      },
      "outputs": [],
      "source": []
    },
    {
      "cell_type": "markdown",
      "metadata": {
        "id": "9ikWBX-lqQz0"
      },
      "source": [
        "12. A partir dos dados lidos na matriz iris_2d, calcule a **média** e **desvio padrão** de cada coluna presente nos dados. Imprima o resultado."
      ]
    },
    {
      "cell_type": "code",
      "execution_count": null,
      "metadata": {
        "id": "s55h9fiDqlXi"
      },
      "outputs": [],
      "source": []
    },
    {
      "cell_type": "markdown",
      "metadata": {
        "id": "c1qbnjgpqvVP"
      },
      "source": [
        "13. Crie um repositório no Github e versione todos os códigos que desenvolveram nesta lista de exercícios."
      ]
    },
    {
      "cell_type": "code",
      "execution_count": null,
      "metadata": {
        "id": "R1KdStxcF05q"
      },
      "outputs": [],
      "source": []
    }
  ],
  "metadata": {
    "colab": {
      "collapsed_sections": [],
      "provenance": []
    },
    "kernelspec": {
      "display_name": "Python 3.11.0 ('.venv': venv)",
      "language": "python",
      "name": "python3"
    },
    "language_info": {
      "codemirror_mode": {
        "name": "ipython",
        "version": 3
      },
      "file_extension": ".py",
      "mimetype": "text/x-python",
      "name": "python",
      "nbconvert_exporter": "python",
      "pygments_lexer": "ipython3",
      "version": "3.11.0"
    },
    "vscode": {
      "interpreter": {
        "hash": "9207e1957def19569643cebf9180b678b0f1494a57a9b12f2d42f564a7fcf6d9"
      }
    }
  },
  "nbformat": 4,
  "nbformat_minor": 0
}
