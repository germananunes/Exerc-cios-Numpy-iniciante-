{
 "cells": [
  {
   "cell_type": "markdown",
   "metadata": {},
   "source": [
    "### Exercícios\n",
    "\n",
    "1. Crie um array unidimensional com números inteiros distribuídos de maneira aleatória de 1 a 100, e filtre apenas os números maiores ou iguais a 50."
   ]
  },
  {
   "cell_type": "markdown",
   "metadata": {},
   "source": [
    "Primeiro é importante importar a biblioteca para dentro do código usando o \"import\" e atribuindo um \"apelido\" à biblioteca"
   ]
  },
  {
   "cell_type": "code",
   "execution_count": 2,
   "metadata": {},
   "outputs": [],
   "source": [
    "import numpy as np #toda vez que eu for usar um método dessa biblioteca, só uso o np"
   ]
  },
  {
   "cell_type": "code",
   "execution_count": 4,
   "metadata": {},
   "outputs": [
    {
     "data": {
      "text/plain": [
       "array([89, 87, 79, 53, 66, 56, 94, 98, 64, 55, 55, 60, 52, 89, 61, 65, 56,\n",
       "       94, 64, 68, 61, 70, 53, 87, 93, 52, 95, 91, 77, 98, 97, 61, 79, 87,\n",
       "       80, 56, 87, 93, 79, 80, 59, 68, 61, 68, 68, 77, 77, 65, 58, 86, 80,\n",
       "       67, 90, 89, 97, 61, 65, 59, 85, 95, 96, 74, 90, 66, 81, 57, 81, 79,\n",
       "       97, 87, 57, 79])"
      ]
     },
     "execution_count": 4,
     "metadata": {},
     "output_type": "execute_result"
    }
   ],
   "source": [
    "inteiros = np.random.randint(1,101,150) #colocando 150 numeros pq entre 1 e 50, nenhum valor deverá entrar no nosso array\n",
    "inteiros[inteiros>=50] # filtro/máscara"
   ]
  },
  {
   "cell_type": "markdown",
   "metadata": {},
   "source": [
    "2. Crie um array 1-dimensional (com 100 elementos) com números reais (float) aleatórios, e retorne as seguintes métricas:\n",
    "  - média\n",
    "  - mediana\n",
    "  - desvio padrão\n",
    "  - máximo\n",
    "  - mínimo\n",
    "  - índice do elemento máximo\n",
    "  - indice do elemento mínimo"
   ]
  },
  {
   "cell_type": "code",
   "execution_count": 8,
   "metadata": {},
   "outputs": [
    {
     "name": "stdout",
     "output_type": "stream",
     "text": [
      "\n",
      " a) Média = 0.46438534751478316\n",
      " b) Mediana = 0.4552786307613158\n",
      " c) Desvio Padrão = 0.3026326475530078\n",
      " d) Máximo = 0.9974880044737707\n",
      " e) Mínimo = 0.0036594411556839512\n",
      " f) Índice Máximo = 84\n",
      " g) Índice Mínimo = 9\n"
     ]
    }
   ],
   "source": [
    "array = np.random.rand(100)\n",
    "media = np.mean(array)\n",
    "mediana = np.median(array)\n",
    "desvio = np.std(array)\n",
    "maximo = np.max(array)\n",
    "minimo = np.min(array)\n",
    "ind_max = array.argmax()\n",
    "ind_min = array.argmin()\n",
    "print(f\"\\n a) Média = {media}\\n b) Mediana = {mediana}\\n c) Desvio Padrão = {desvio}\\n d) Máximo = {maximo}\\n e) Mínimo = {minimo}\\n f) Índice Máximo = {ind_max}\\n g) Índice Mínimo = {ind_min}\")\n"
   ]
  },
  {
   "cell_type": "markdown",
   "metadata": {},
   "source": [
    "3. Crie uma array 2-dimensional (10x5) com números reais (float) aleatórios, e retorne as seguintes métricas:\n",
    "  - média\n",
    "  - mediana\n",
    "  - desvio padrão\n",
    "  - máximo\n",
    "  - mínimo\n",
    "  - índice do elemento máximo\n",
    "  - indice do elemento mínimo"
   ]
  },
  {
   "cell_type": "code",
   "execution_count": 12,
   "metadata": {},
   "outputs": [
    {
     "name": "stdout",
     "output_type": "stream",
     "text": [
      "a) Média = 4.76\n",
      "b) Mediana = 5.0\n",
      "c) Desvio Padrão = 2.2588492645592804\n",
      "d) Máximo = 9\n",
      "e) Mínimo = 1\n",
      "f) Índice Máximo = 6\n",
      "g) Índice Mínimo = 0\n"
     ]
    }
   ],
   "source": [
    "matriz = np.random.randint(1, 10, (10, 5)) #aqui ele colocou na extensão essa tupla onde o primeiro número é a quantidade de linhas e o segundo numero de colunas\n",
    "\n",
    "med = np.mean(matriz)\n",
    "mdn = np.median(matriz)\n",
    "des = np.std(matriz)\n",
    "max1 = np.max(matriz)\n",
    "min1 = np.min(matriz)\n",
    "ind_max1 = matriz.argmax()\n",
    "ind_min1 = matriz.argmin()\n",
    "\n",
    "print(f\"a) Média = {med}\") \n",
    "print(f\"b) Mediana = {mdn}\") \n",
    "print(f\"c) Desvio Padrão = {des}\")\n",
    "print(f\"d) Máximo = {max1}\")\n",
    "print(f\"e) Mínimo = {min1}\")\n",
    "print(f\"f) Índice Máximo = {ind_max1}\")\n",
    "print(f\"g) Índice Mínimo = {ind_min1}\")"
   ]
  },
  {
   "cell_type": "markdown",
   "metadata": {},
   "source": [
    "4. Crie um array 1-dimensional com 100 inteiros aleatórios de 0 a 1000, e substitua cada valor ímpar por -1. "
   ]
  },
  {
   "cell_type": "code",
   "execution_count": 13,
   "metadata": {},
   "outputs": [
    {
     "data": {
      "text/plain": [
       "array([ -1, 870,  -1,  -1,  -1,  -1,  -1, 582,  -1,  -1,  -1,  -1,  -1,\n",
       "        -1,  -1, 572,  -1,  48,  -1, 362,  -1,  -1, 756,  -1, 878,   8,\n",
       "         4,  -1,  -1,  -1,  -1, 488,  -1,  -1,  -1,  -1,  -1,  -1, 736,\n",
       "        -1,  -1, 630, 108,  -1,  -1, 480, 254, 840,  -1, 538, 788, 974,\n",
       "       960, 464,  -1,  52, 700,  -1,  -1,  -1, 792,  -1,  -1, 418,  -1,\n",
       "        -1,  -1,  -1,  -1, 284,  -1, 558,  -1, 110,  -1, 148, 512,  -1,\n",
       "        -1, 192,  -1,  -1, 880,  -1,  -1,  -1, 860, 308,  -1, 376, 508,\n",
       "        -1,  -1,  -1, 390, 188,  -1,  80, 928, 812])"
      ]
     },
     "execution_count": 13,
     "metadata": {},
     "output_type": "execute_result"
    }
   ],
   "source": [
    "nv = np.random.randint(0,1000,100) \n",
    "nv[nv%2!=0] = -1 #criei uma máscara, é interessante perceber que a condição vai entre cochetes e a atribuição vai fora\n",
    "nv "
   ]
  },
  {
   "cell_type": "code",
   "execution_count": null,
   "metadata": {},
   "outputs": [],
   "source": []
  }
 ],
 "metadata": {
  "kernelspec": {
   "display_name": "Python 3.11.0 ('.venv': venv)",
   "language": "python",
   "name": "python3"
  },
  "language_info": {
   "codemirror_mode": {
    "name": "ipython",
    "version": 3
   },
   "file_extension": ".py",
   "mimetype": "text/x-python",
   "name": "python",
   "nbconvert_exporter": "python",
   "pygments_lexer": "ipython3",
   "version": "3.11.0"
  },
  "orig_nbformat": 4,
  "vscode": {
   "interpreter": {
    "hash": "9207e1957def19569643cebf9180b678b0f1494a57a9b12f2d42f564a7fcf6d9"
   }
  }
 },
 "nbformat": 4,
 "nbformat_minor": 2
}
