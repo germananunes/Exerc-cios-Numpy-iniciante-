{
  "nbformat": 4,
  "nbformat_minor": 0,
  "metadata": {
    "colab": {
      "provenance": [],
      "authorship_tag": "ABX9TyObbhLLCJS2djUI6HGTa+kA",
      "include_colab_link": true
    },
    "kernelspec": {
      "name": "python3",
      "display_name": "Python 3"
    },
    "language_info": {
      "name": "python"
    }
  },
  "cells": [
    {
      "cell_type": "markdown",
      "metadata": {
        "id": "view-in-github",
        "colab_type": "text"
      },
      "source": [
        "<a href=\"https://colab.research.google.com/github/germananunes/Exerc-cios-Numpy-iniciante-/blob/main/Estudo_individualizado_12_10.ipynb\" target=\"_parent\"><img src=\"https://colab.research.google.com/assets/colab-badge.svg\" alt=\"Open In Colab\"/></a>"
      ]
    },
    {
      "cell_type": "code",
      "execution_count": null,
      "metadata": {
        "id": "NOdt8lI_Oj6v"
      },
      "outputs": [],
      "source": []
    },
    {
      "cell_type": "markdown",
      "source": [
        "## Variáveis Compostas:\n",
        "- Tuplas \n",
        "- Listas\n",
        "- Dicionários\n",
        "\n",
        "elementos diferentes que são acessados por índices\n"
      ],
      "metadata": {
        "id": "Ocs7FmaGO_iX"
      }
    },
    {
      "cell_type": "code",
      "source": [
        "lanche = ('hamburguer', 'suco', 'pizza','pudim')\n",
        "#h,b,p,s = ('hamburguer', 'suco', 'pizza','pudim')\n",
        "\n",
        "for pos, comida in enumerate(lanche): #ele da a posição e o valor do atributo\n",
        "  print(f'Eu vou comer {comida} na posição {pos}')\n",
        "\n",
        "print(sorted(lanche)) #transformou em lista! mas não altera a tupla, apenas mostra!\n",
        "\n",
        "\n",
        "#tuplas são imutáveis"
      ],
      "metadata": {
        "colab": {
          "base_uri": "https://localhost:8080/"
        },
        "id": "97v5BISJROcz",
        "outputId": "7734d578-5820-4d15-b05d-a93f886b587d"
      },
      "execution_count": null,
      "outputs": [
        {
          "output_type": "stream",
          "name": "stdout",
          "text": [
            "Eu vou comer hamburguer na posição 0\n",
            "Eu vou comer suco na posição 1\n",
            "Eu vou comer pizza na posição 2\n",
            "Eu vou comer pudim na posição 3\n",
            "['hamburguer', 'pizza', 'pudim', 'suco']\n"
          ]
        }
      ]
    },
    {
      "cell_type": "code",
      "source": [
        "a = (2,5,4)\n",
        "b = (5,8,1,2)\n",
        "c = a + b\n",
        "d = b + a\n",
        "\n",
        "print(c,d)\n",
        "print(c.count(5))\n",
        "print(c.index(8))"
      ],
      "metadata": {
        "colab": {
          "base_uri": "https://localhost:8080/"
        },
        "id": "qQxMmghzRheA",
        "outputId": "e64ba383-3edb-4e08-9f63-86ff307e891a"
      },
      "execution_count": null,
      "outputs": [
        {
          "output_type": "stream",
          "name": "stdout",
          "text": [
            "(2, 5, 4, 5, 8, 1, 2) (5, 8, 1, 2, 2, 5, 4)\n",
            "2\n",
            "4\n"
          ]
        }
      ]
    },
    {
      "cell_type": "code",
      "source": [
        "pip install num2words"
      ],
      "metadata": {
        "colab": {
          "base_uri": "https://localhost:8080/"
        },
        "id": "hl8xr_lqbEXo",
        "outputId": "f53f7a85-03d2-49e6-af8c-d17e11eba704"
      },
      "execution_count": null,
      "outputs": [
        {
          "output_type": "stream",
          "name": "stdout",
          "text": [
            "Looking in indexes: https://pypi.org/simple, https://us-python.pkg.dev/colab-wheels/public/simple/\n",
            "Collecting num2words\n",
            "  Downloading num2words-0.5.12-py3-none-any.whl (125 kB)\n",
            "\u001b[K     |████████████████████████████████| 125 kB 6.7 MB/s \n",
            "\u001b[?25hCollecting docopt>=0.6.2\n",
            "  Downloading docopt-0.6.2.tar.gz (25 kB)\n",
            "Building wheels for collected packages: docopt\n",
            "  Building wheel for docopt (setup.py) ... \u001b[?25l\u001b[?25hdone\n",
            "  Created wheel for docopt: filename=docopt-0.6.2-py2.py3-none-any.whl size=13723 sha256=1c761d906af6a06d4b6413c372dd18ba0daaccd6f381b4a662b9d8d63b1106b7\n",
            "  Stored in directory: /root/.cache/pip/wheels/72/b0/3f/1d95f96ff986c7dfffe46ce2be4062f38ebd04b506c77c81b9\n",
            "Successfully built docopt\n",
            "Installing collected packages: docopt, num2words\n",
            "Successfully installed docopt-0.6.2 num2words-0.5.12\n"
          ]
        }
      ]
    },
    {
      "cell_type": "code",
      "source": [
        "from num2words import num2words\n",
        "\n",
        "def pedindo_num(a:int,b:int) -> list:\n",
        "  lista_n = []\n",
        "  for i in range(a,b):\n",
        "    num_ptbr = num2words(i, lang='pt-br')\n",
        "    lista_n.append(num_ptbr)\n",
        "  return lista_n\n",
        "\n",
        "def input_num() -> int:\n",
        "    num = int(input('Digite um número de 0 a 20:'))\n",
        "    return num\n",
        "\n",
        "def imprime(num:int) -> str:\n",
        "    lista_n = pedindo_num(0,21)\n",
        "    tupla_n = tuple(lista_n)\n",
        "    print(f'Você digitou o {tupla_n[num]}')\n",
        "\n",
        "def main():\n",
        "  num = input_num()\n",
        "  imprime(num)\n",
        "\n",
        "\n"
      ],
      "metadata": {
        "id": "1sFUkyIxc-oi"
      },
      "execution_count": null,
      "outputs": []
    },
    {
      "cell_type": "code",
      "source": [
        "main()"
      ],
      "metadata": {
        "colab": {
          "base_uri": "https://localhost:8080/"
        },
        "id": "I2YiHfh5eNaG",
        "outputId": "4a77f469-b06a-4f24-a3af-4ce9887c2cba"
      },
      "execution_count": null,
      "outputs": [
        {
          "output_type": "stream",
          "name": "stdout",
          "text": [
            "Digite um número de 0 a 20:6\n",
            "Você digitou o seis\n"
          ]
        }
      ]
    },
    {
      "cell_type": "code",
      "source": [
        "def input_num():\n",
        "    num = input('Digite um número de 0 a 20:')\n",
        "    return num"
      ],
      "metadata": {
        "id": "GFdJn3Puhq5x"
      },
      "execution_count": null,
      "outputs": []
    },
    {
      "cell_type": "code",
      "source": [
        "input_num()"
      ],
      "metadata": {
        "colab": {
          "base_uri": "https://localhost:8080/",
          "height": 53
        },
        "id": "rjWlNt0tn0Oh",
        "outputId": "8d290b70-2594-4abe-bb48-8d3d6140b973"
      },
      "execution_count": null,
      "outputs": [
        {
          "name": "stdout",
          "output_type": "stream",
          "text": [
            "Digite um número de 0 a 20:5\n"
          ]
        },
        {
          "output_type": "execute_result",
          "data": {
            "text/plain": [
              "'5'"
            ],
            "application/vnd.google.colaboratory.intrinsic+json": {
              "type": "string"
            }
          },
          "metadata": {},
          "execution_count": 71
        }
      ]
    },
    {
      "cell_type": "code",
      "source": [
        "num = int(input('Digite um número de 0 a 20:'))\n",
        "num_ext = ('zero',\n",
        "  'um',\n",
        "  'dois',\n",
        "  'três',\n",
        "  'quatro',\n",
        "  'cinco',\n",
        "  'seis',\n",
        "  'sete',\n",
        "  'oito',\n",
        "  'nove',\n",
        "  'dez',\n",
        "  'onze',\n",
        "  'doze',\n",
        "  'treze',\n",
        "  'catorze',\n",
        "  'quinze',\n",
        "  'dezasseis',\n",
        "  'dezassete',\n",
        "  'dezoito',\n",
        "  'dezanove',\n",
        "  'vinte')\n",
        "print(f'Você digitou o número {num_ext[num]}')"
      ],
      "metadata": {
        "colab": {
          "base_uri": "https://localhost:8080/"
        },
        "id": "JEw-x60xo6re",
        "outputId": "bf82809e-22b1-48f5-849e-9cce941d3d85"
      },
      "execution_count": null,
      "outputs": [
        {
          "output_type": "stream",
          "name": "stdout",
          "text": [
            "Digite um número de 0 a 20:5\n",
            "Você digitou o número cinco\n"
          ]
        }
      ]
    },
    {
      "cell_type": "code",
      "source": [
        "del input"
      ],
      "metadata": {
        "id": "ACDs85AAplGR"
      },
      "execution_count": null,
      "outputs": []
    },
    {
      "cell_type": "code",
      "source": [
        "from num2words import num2words\n",
        "\n",
        "lista = [for i in range(0,21) num_ptbr = num2words(i, lang='pt-br')]"
      ],
      "metadata": {
        "id": "xQwERIf3rjcX",
        "colab": {
          "base_uri": "https://localhost:8080/",
          "height": 130
        },
        "outputId": "38672a23-5f28-498d-8f13-9403ccc1d701"
      },
      "execution_count": null,
      "outputs": [
        {
          "output_type": "error",
          "ename": "SyntaxError",
          "evalue": "ignored",
          "traceback": [
            "\u001b[0;36m  File \u001b[0;32m\"<ipython-input-2-36e5af5e7cac>\"\u001b[0;36m, line \u001b[0;32m3\u001b[0m\n\u001b[0;31m    lista = [for i in range(0,21) num_ptbr = num2words(i, lang='pt-br')]\u001b[0m\n\u001b[0m               ^\u001b[0m\n\u001b[0;31mSyntaxError\u001b[0m\u001b[0;31m:\u001b[0m invalid syntax\n"
          ]
        }
      ]
    },
    {
      "cell_type": "code",
      "source": [
        "#Usando compreensão de listas, faça um programa que pergunte o preço de três produtos e informe qual produto você deve comprar, sabendo que a decisão é sempre pelo mais barato.\n",
        "\n",
        "a = input(\"digite o valor do produto:\")\n",
        "b = input(\"digite o valor do produto:\")\n",
        "c = input(\"digite o valor do produto:\")\n",
        "\n",
        "\n"
      ],
      "metadata": {
        "colab": {
          "base_uri": "https://localhost:8080/"
        },
        "id": "-B0MlULk11LQ",
        "outputId": "071b410c-ea90-478d-ccff-b5f7eb774694"
      },
      "execution_count": null,
      "outputs": [
        {
          "output_type": "stream",
          "name": "stdout",
          "text": [
            "Informe o valor de três produtos:12,35,41\n",
            "O mais barato custa R$12\n"
          ]
        }
      ]
    },
    {
      "cell_type": "code",
      "source": [],
      "metadata": {
        "id": "IHDF1Zh47gQ0"
      },
      "execution_count": null,
      "outputs": []
    }
  ]
}